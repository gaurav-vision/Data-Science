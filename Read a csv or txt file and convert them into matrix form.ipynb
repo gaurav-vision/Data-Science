{
 "cells": [
  {
   "cell_type": "code",
   "execution_count": 1,
   "metadata": {},
   "outputs": [],
   "source": [
    "import numpy as np"
   ]
  },
  {
   "cell_type": "code",
   "execution_count": 6,
   "metadata": {},
   "outputs": [
    {
     "name": "stdout",
     "output_type": "stream",
     "text": [
      "(2266, 99)\n"
     ]
    }
   ],
   "source": [
    "# first crate a empty list]\n",
    "file = []\n",
    "#Now read the csv or txt file line by line and store into another list.\n",
    "lines = open('dataset/S1/phoning_2.txt').readlines() # in lines list each line of the phoning_2.txt \n",
    "#file has stored. Now the first element of the list lines keep first row of the actual file.\n",
    "#likewise same for others.\n",
    "\n",
    "for line in lines:\n",
    "    line = line.strip().split(',')\n",
    "    if len(line) > 0:      \n",
    "        file.append(np.array([np.float32(i) for i in line]))\n",
    "            \n",
    "#convert list into array\n",
    "file = np.array(file)\n",
    "print(file.shape)"
   ]
  },
  {
   "cell_type": "code",
   "execution_count": null,
   "metadata": {},
   "outputs": [],
   "source": []
  },
  {
   "cell_type": "code",
   "execution_count": null,
   "metadata": {},
   "outputs": [],
   "source": []
  }
 ],
 "metadata": {
  "kernelspec": {
   "display_name": "Python 3",
   "language": "python",
   "name": "python3"
  },
  "language_info": {
   "codemirror_mode": {
    "name": "ipython",
    "version": 3
   },
   "file_extension": ".py",
   "mimetype": "text/x-python",
   "name": "python",
   "nbconvert_exporter": "python",
   "pygments_lexer": "ipython3",
   "version": "3.7.6"
  }
 },
 "nbformat": 4,
 "nbformat_minor": 4
}
